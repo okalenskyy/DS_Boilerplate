{
  "nbformat": 4,
  "nbformat_minor": 0,
  "metadata": {
    "colab": {
      "provenance": [],
      "authorship_tag": "ABX9TyP6JWk6kekaYi26vRt7qeLc",
      "include_colab_link": true
    },
    "kernelspec": {
      "name": "python3",
      "display_name": "Python 3"
    },
    "language_info": {
      "name": "python"
    }
  },
  "cells": [
    {
      "cell_type": "markdown",
      "metadata": {
        "id": "view-in-github",
        "colab_type": "text"
      },
      "source": [
        "<a href=\"https://colab.research.google.com/github/okalenskyy/DS_Boilerplate/blob/main/01_DataAnalysis.ipynb\" target=\"_parent\"><img src=\"https://colab.research.google.com/assets/colab-badge.svg\" alt=\"Open In Colab\"/></a>"
      ]
    },
    {
      "cell_type": "code",
      "execution_count": null,
      "metadata": {
        "id": "TupopVsQg0PJ"
      },
      "outputs": [],
      "source": []
    },
    {
      "cell_type": "markdown",
      "source": [
        "1.1 Detect anomalies in a time-series dataset."
      ],
      "metadata": {
        "id": "g7vmnDYcixhL"
      }
    },
    {
      "cell_type": "markdown",
      "source": [
        "1.2 Conduct time-series analysis."
      ],
      "metadata": {
        "id": "DjTEMokSi609"
      }
    },
    {
      "cell_type": "markdown",
      "source": [
        "1.3 Create and analyze graph data using something like cuGraph.\n"
      ],
      "metadata": {
        "id": "Bidbkrdgi-BH"
      }
    },
    {
      "cell_type": "markdown",
      "source": [
        "1.4 Identify how much data is big data (or when to use which acceleration method).\n"
      ],
      "metadata": {
        "id": "smDDNsQajCV7"
      }
    },
    {
      "cell_type": "markdown",
      "source": [
        "1.5 Perform exploratory data analysis (EDA).\n"
      ],
      "metadata": {
        "id": "d2vAweNujDln"
      }
    },
    {
      "cell_type": "markdown",
      "source": [
        "1.6 Visualize time-series data.\n"
      ],
      "metadata": {
        "id": "sKsT2PbMjExW"
      }
    }
  ]
}